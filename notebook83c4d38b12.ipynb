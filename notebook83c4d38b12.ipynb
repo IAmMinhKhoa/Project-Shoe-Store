{
 "cells": [
  {
   "cell_type": "code",
   "execution_count": 1,
   "id": "112e8634",
   "metadata": {
    "_cell_guid": "b1076dfc-b9ad-4769-8c92-a6c4dae69d19",
    "_uuid": "8f2839f25d086af736a60e9eeb907d3b93b6e0e5",
    "execution": {
     "iopub.execute_input": "2024-02-24T06:47:50.096638Z",
     "iopub.status.busy": "2024-02-24T06:47:50.096252Z",
     "iopub.status.idle": "2024-02-24T06:47:50.110409Z",
     "shell.execute_reply": "2024-02-24T06:47:50.109081Z"
    },
    "papermill": {
     "duration": 0.020625,
     "end_time": "2024-02-24T06:47:50.112848",
     "exception": false,
     "start_time": "2024-02-24T06:47:50.092223",
     "status": "completed"
    },
    "tags": []
   },
   "outputs": [
    {
     "name": "stdout",
     "output_type": "stream",
     "text": [
      "Hello world!\n"
     ]
    }
   ],
   "source": [
    "print(\"Hello world!\")"
   ]
  },
  {
   "cell_type": "code",
   "execution_count": 2,
   "id": "1e43e9d8",
   "metadata": {
    "execution": {
     "iopub.execute_input": "2024-02-24T06:47:50.119057Z",
     "iopub.status.busy": "2024-02-24T06:47:50.118646Z",
     "iopub.status.idle": "2024-02-24T06:47:50.123998Z",
     "shell.execute_reply": "2024-02-24T06:47:50.123033Z"
    },
    "papermill": {
     "duration": 0.011148,
     "end_time": "2024-02-24T06:47:50.126307",
     "exception": false,
     "start_time": "2024-02-24T06:47:50.115159",
     "status": "completed"
    },
    "tags": []
   },
   "outputs": [
    {
     "name": "stdout",
     "output_type": "stream",
     "text": [
      "trum server\n"
     ]
    }
   ],
   "source": [
    "print(\"trum server\")"
   ]
  }
 ],
 "metadata": {
  "kaggle": {
   "accelerator": "none",
   "dataSources": [],
   "dockerImageVersionId": 30646,
   "isGpuEnabled": false,
   "isInternetEnabled": true,
   "language": "python",
   "sourceType": "notebook"
  },
  "kernelspec": {
   "display_name": "Python 3",
   "language": "python",
   "name": "python3"
  },
  "language_info": {
   "codemirror_mode": {
    "name": "ipython",
    "version": 3
   },
   "file_extension": ".py",
   "mimetype": "text/x-python",
   "name": "python",
   "nbconvert_exporter": "python",
   "pygments_lexer": "ipython3",
   "version": "3.10.13"
  },
  "papermill": {
   "default_parameters": {},
   "duration": 3.571602,
   "end_time": "2024-02-24T06:47:50.549618",
   "environment_variables": {},
   "exception": null,
   "input_path": "__notebook__.ipynb",
   "output_path": "__notebook__.ipynb",
   "parameters": {},
   "start_time": "2024-02-24T06:47:46.978016",
   "version": "2.5.0"
  }
 },
 "nbformat": 4,
 "nbformat_minor": 5
}
